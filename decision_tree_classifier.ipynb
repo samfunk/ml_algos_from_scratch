{
 "cells": [
  {
   "cell_type": "markdown",
   "metadata": {},
   "source": [
    "# Decision Tree Classifier from scratch"
   ]
  },
  {
   "cell_type": "code",
   "execution_count": null,
   "metadata": {
    "collapsed": true
   },
   "outputs": [],
   "source": [
    "import numpy as np\n",
    "import pandas as pd\n",
    "from sklearn.datasets import load_iris\n",
    "from sklearn.tree import DecisionTreeClassifier\n",
    "import math"
   ]
  },
  {
   "cell_type": "code",
   "execution_count": null,
   "metadata": {
    "collapsed": true
   },
   "outputs": [],
   "source": [
    "iris = load_iris()\n",
    "data = iris.data\n",
    "target = iris.target"
   ]
  },
  {
   "cell_type": "code",
   "execution_count": null,
   "metadata": {
    "collapsed": true
   },
   "outputs": [],
   "source": [
    "class decision_tree_classifier:\n",
    "    \n",
    "    def __init__(self, max_depth=0):\n",
    "        self.max_depth = max_depth\n",
    "    \n",
    "    def count_target_values(self, y):\n",
    "        results = {}\n",
    "        counts = np.unique(y, return_counts=True)\n",
    "        for i,j in zip(*counts):\n",
    "            results[i] = j\n",
    "        return results\n",
    "    \n",
    "    def entropy(self, y):\n",
    "        results = self.count_target_values(y)\n",
    "        size = y.shape[0]\n",
    "        entropy = 0.0\n",
    "        for cl in results.keys():\n",
    "            p = float(results[cl]) / size\n",
    "            entropy -= p*np.log(p)        \n",
    "        return entropy\n",
    "    \n",
    "    def split(self, X, y, feature, value):\n",
    "    \n",
    "        # Check if feature's value is numerical or categorical\n",
    "        split = None\n",
    "        if isinstance(value, int) or isinstance(value, float):\n",
    "            split = lambda x: x[feature] >= value\n",
    "        else:\n",
    "            split = lambda x: x[feature] == value\n",
    "\n",
    "        split1 = [i for i, row in enumerate(X) if split(row)]\n",
    "        split2 = [i for i, row in enumerate(X) if not split(row)]\n",
    "\n",
    "        X1 = X[split1]\n",
    "        y1 = y[split1]\n",
    "        X2 = X[split2]\n",
    "        y2 = y[split2]\n",
    "\n",
    "        return X1, y1, X2, y2\n",
    "    \n",
    "    def fit(self, X, y, depth=0):\n",
    "    \n",
    "        best_gain = 0.0\n",
    "        best_criteria = None\n",
    "        best_sets = None\n",
    "\n",
    "        parent_entropy = self.entropy(y)\n",
    "        features = X.shape[1]\n",
    "\n",
    "        for feat in range(features):\n",
    "            values = np.unique(X[:,feat])\n",
    "            for val in values:\n",
    "                X1, y1, X2, y2 = self.test_split(X, y, feat, val)\n",
    "                p1 = float(X1.shape[0]) / y.shape[0]\n",
    "\n",
    "                info_gain = parent_entropy - p1*self.entropy(y1) - (1-p)*self.entropy(y2)\n",
    "\n",
    "            if info_gain > best_gain:\n",
    "                best_sets = (X1, y1, X2, y2)\n",
    "                best_gain = info_gain\n",
    "                best_criteria = (feat, val)\n",
    "\n",
    "        return best_criteria"
   ]
  },
  {
   "cell_type": "markdown",
   "metadata": {
    "collapsed": true
   },
   "source": [
    "## To Do\n",
    "* Add predict method\n",
    "* Be able to save/print the tree\n",
    "* Add one-vs-rest functionality for multi-class problems\n",
    "* Add Gini Index criterion"
   ]
  },
  {
   "cell_type": "code",
   "execution_count": null,
   "metadata": {
    "collapsed": true
   },
   "outputs": [],
   "source": [
    "votes = np.array([[1,1,1,1],\n",
    "                 [1,0,0,0],\n",
    "                 [1,0,1,0],\n",
    "                 [0,1,1,1],\n",
    "                 [0,0,0,0],\n",
    "                 [1,1,0,0],\n",
    "                 [0,1,0,0],\n",
    "                 [0,0,1,1]])\n",
    "\n",
    "X = votes[:,:-1]\n",
    "y = votes[:,-1].reshape(-1,1)"
   ]
  }
 ],
 "metadata": {
  "kernelspec": {
   "display_name": "Python 3",
   "language": "python",
   "name": "python3"
  },
  "language_info": {
   "codemirror_mode": {
    "name": "ipython",
    "version": 3
   },
   "file_extension": ".py",
   "mimetype": "text/x-python",
   "name": "python",
   "nbconvert_exporter": "python",
   "pygments_lexer": "ipython3",
   "version": "3.6.4"
  }
 },
 "nbformat": 4,
 "nbformat_minor": 2
}
