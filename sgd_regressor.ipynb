{
 "cells": [
  {
   "cell_type": "markdown",
   "metadata": {},
   "source": [
    "# Stochastic Gradient Descent Regressor"
   ]
  },
  {
   "cell_type": "code",
   "execution_count": 1,
   "metadata": {},
   "outputs": [],
   "source": [
    "import numpy as np\n",
    "import pandas as pd\n",
    "import matplotlib.pyplot as plt\n",
    "\n",
    "%matplotlib inline"
   ]
  },
  {
   "cell_type": "code",
   "execution_count": 2,
   "metadata": {
    "collapsed": true
   },
   "outputs": [],
   "source": [
    "class sgd_regressor:\n",
    "    \n",
    "    def __init__(self, n_iter=500, alpha=0.01, fit_intercept=True):\n",
    "        self.coef_ = None\n",
    "        self.n_iter = n_iter\n",
    "        self.alpha_ = alpha\n",
    "        self._fit_intercept = fit_intercept\n",
    "\n",
    "    def shuffle_data(self, X, y):\n",
    "        permute = np.random.permutation(len(y))\n",
    "        return X[permute], y[permute]\n",
    "    \n",
    "    def init_coef(self, X):\n",
    "        if self._fit_intercept:\n",
    "            return np.random.rand(X.shape[1]+1)\n",
    "        return np.random.rand(X.shape[1])\n",
    "    \n",
    "    def update(self, x, error):\n",
    "        step = self.alpha_ * error * x\n",
    "        if self._fit_intercept:\n",
    "            self.coef_[1:] = self.coef_[1:] - step\n",
    "            self.coef_[0] = self.coef_[0] - self.alpha_ * error\n",
    "        else:\n",
    "            self.coef_ = self.coef_ - step\n",
    "    \n",
    "    def fit(self, X, y):\n",
    "        \n",
    "        self.coef_ = self.init_coef(X)\n",
    "        \n",
    "        for epoch in range(self.n_iter):\n",
    "            shuf_X, shuf_y = self.shuffle_data(X,y)\n",
    "            \n",
    "            for data, true in zip(shuf_X,shuf_y):\n",
    "                pred = self.predict(data)\n",
    "                error = pred - true\n",
    "                self.update(data, error)\n",
    "\n",
    "    def predict(self, X):\n",
    "        if self._fit_intercept:\n",
    "            return np.dot(X, self.coef_[1:]) + self.coef_[0]\n",
    "        return np.dot(X, self.coef_)\n",
    "    \n",
    "    def mse(self, X, y):\n",
    "        pred = self.predict(X)\n",
    "        return np.mean((np.array(pred)-np.array(y))**2)"
   ]
  },
  {
   "cell_type": "code",
   "execution_count": 3,
   "metadata": {
    "collapsed": true
   },
   "outputs": [],
   "source": [
    "def gen_data(rows, gen_coefs, gen_inter = 0):\n",
    "    X = np.random.rand(rows,len(gen_coefs))\n",
    "    y = np.sum(np.tile(np.array(gen_coefs),(X.shape[0],1))*X,axis=1)\n",
    "    y = y + np.random.normal(0,0.5, size=X.shape[0])\n",
    "    y = y + gen_inter\n",
    "    return X, y"
   ]
  },
  {
   "cell_type": "code",
   "execution_count": 4,
   "metadata": {},
   "outputs": [
    {
     "data": {
      "text/plain": [
       "0.23326598992758205"
      ]
     },
     "execution_count": 4,
     "metadata": {},
     "output_type": "execute_result"
    }
   ],
   "source": [
    "X_train, y_train = gen_data(1000, [1.5], 3)\n",
    "sgd = sgd_regressor(n_iter=500, alpha=0.01, fit_intercept=True)\n",
    "sgd.fit(X_train, y_train)\n",
    "sgd.mse(X_train, y_train)"
   ]
  },
  {
   "cell_type": "code",
   "execution_count": 5,
   "metadata": {},
   "outputs": [
    {
     "data": {
      "text/plain": [
       "0.25527418925989465"
      ]
     },
     "execution_count": 5,
     "metadata": {},
     "output_type": "execute_result"
    }
   ],
   "source": [
    "X_test, y_test = gen_data(1000, [1.5], 3)\n",
    "preds = sgd.predict(X_test)\n",
    "resid = preds - y_test\n",
    "sgd.mse(X_test, y_test)"
   ]
  },
  {
   "cell_type": "code",
   "execution_count": 6,
   "metadata": {},
   "outputs": [
    {
     "data": {
      "image/png": "[encoded data removed]",
      "text/plain": [
       "<matplotlib.figure.Figure at 0x10cbe57f0>"
      ]
     },
     "metadata": {},
     "output_type": "display_data"
    }
   ],
   "source": [
    "plt.scatter(preds, y_test)\n",
    "scale = np.linspace(min(y_test), max(y_test), 100)\n",
    "plt.xlim(min(y_test), max(y_test))\n",
    "plt.plot(scale, scale, 'r')\n",
    "plt.xlabel('Predicited')\n",
    "plt.ylabel('True');"
   ]
  },
  {
   "cell_type": "markdown",
   "metadata": {},
   "source": [
    "## To Do\n",
    "* More learning rate functionality\n",
    "* Add regularization\n",
    "* More visualizations/metrics"
   ]
  },
  {
   "cell_type": "code",
   "execution_count": null,
   "metadata": {
    "collapsed": true
   },
   "outputs": [],
   "source": []
  }
 ],
 "metadata": {
  "kernelspec": {
   "display_name": "Python 3",
   "language": "python",
   "name": "python3"
  },
  "language_info": {
   "codemirror_mode": {
    "name": "ipython",
    "version": 3
   },
   "file_extension": ".py",
   "mimetype": "text/x-python",
   "name": "python",
   "nbconvert_exporter": "python",
   "pygments_lexer": "ipython3",
   "version": "3.6.4"
  }
 },
 "nbformat": 4,
 "nbformat_minor": 2
}
