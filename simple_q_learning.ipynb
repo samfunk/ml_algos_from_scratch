{
 "cells": [
  {
   "cell_type": "markdown",
   "metadata": {},
   "source": [
    "# Q-Learning from Scratch"
   ]
  },
  {
   "cell_type": "markdown",
   "metadata": {},
   "source": [
    "Followed [this tutorial](http://mnemstudio.org/path-finding-q-learning-tutorial.htm) to build a simple Q-learning (reinforcement learning) algorithm. Able to take other reward matricies and even has a random graph generator (via `networkx`). Currently only allows for the edges contiguous to the goal node to have a reward (100). Additionally, all goal nodes loop back to themselves. After fitting (w/ `learn`), enter start node (must be integer, have to convert letters to integers) into `predict_path` to obtain optimal path."
   ]
  },
  {
   "cell_type": "code",
   "execution_count": 1,
   "metadata": {
    "collapsed": true
   },
   "outputs": [],
   "source": [
    "import numpy as np\n",
    "import random\n",
    "import networkx as nx\n",
    "import matplotlib.pyplot as plt\n",
    "\n",
    "np.set_printoptions(precision=2)\n",
    "\n",
    "%matplotlib inline"
   ]
  },
  {
   "cell_type": "code",
   "execution_count": 2,
   "metadata": {
    "collapsed": true
   },
   "outputs": [],
   "source": [
    "class Q_learning:\n",
    "    '''  Q-Learning Algorithm\n",
    "    \n",
    "    Utilizes Q-learning (reinforcement learning) to find optimal path given a graph with reward/weighted edges.\n",
    "    Can take pre-made graphs or can produce randomly-generated ones. Currently, reward matrix has following attributes:\n",
    "        -1 = no edge present\n",
    "        0 = edge without reward (not connected to goal node)\n",
    "        100 = edge with reward (connected to goal node)\n",
    "    Fit with `learn` and find optimal path with `predict_path`\n",
    "    \n",
    "    Parameters\n",
    "    ---\n",
    "    gamma : float, [0,1], (default = 0.8)\n",
    "            discount factor, trades off the importance of earlier versus later rewards,\n",
    "            may also be interpreted as the probability to succeed (or survive) at every step.\n",
    "    \n",
    "    epochs : int, (default = 1000)\n",
    "            number of iterations the algorithm runs and thus learns\n",
    "            \n",
    "    Attributes\n",
    "    ---\n",
    "    q_matrix_ : array, shape = reward.shape\n",
    "            \"algorithm's brain\", matrix of different (state, action) Q-scores,\n",
    "            higher scores correspond to optimal path for given state\n",
    "    '''\n",
    "    def __init__(self, gamma=0.8, epochs=1000):\n",
    "        \n",
    "        self.gamma = gamma\n",
    "        self.epochs = epochs\n",
    "    \n",
    "    \n",
    "    def random_graph(self, nodes=6, edges=8):\n",
    "        '''\n",
    "        Create random graph with n nodes and e edges. Every node has at least one connection,\n",
    "        every edge is bi-directional, the final node is always treated as the goal state.\n",
    "        \n",
    "        Parameters\n",
    "        ---\n",
    "        nodes : int, (default = 6)\n",
    "                number of nodes, must be less than or equal to the number of edges\n",
    "                \n",
    "        edges : int, (default = 8)\n",
    "                number of edges, can be equal to or at most two times the number of nodes\n",
    "                \n",
    "        Attributes\n",
    "        ---\n",
    "        graph : nx.Graph.dense_gnm_random_graph object\n",
    "                Randomly generated graph\n",
    "                \n",
    "        Return\n",
    "        ---\n",
    "        matrix : numpy array, shape = [nodes, nodes]\n",
    "                Matrix representation of graph, w/ pre-stated reward attributes\n",
    "        '''\n",
    "        while True:\n",
    "            self.graph = nx.dense_gnm_random_graph(nodes, edges)\n",
    "            matrix = nx.to_numpy_array(self.graph)\n",
    "            if 0 not in np.sum(matrix, axis=1):\n",
    "                break\n",
    "        \n",
    "        matrix = matrix - 1\n",
    "        matrix[:, -1][matrix[:, -1] == 0] = 100\n",
    "        matrix[-1,-1] = 100\n",
    "        \n",
    "        return matrix\n",
    "    \n",
    "    \n",
    "    def print_graph(self, matrix=None):\n",
    "        '''\n",
    "        Illustrates randomly-generated graph or pre-made reward matrix.\n",
    "        \n",
    "        Parameters\n",
    "        ---\n",
    "        matrix : array, (default = None)\n",
    "                pre-made reward matrix, needs to be in pre-stated format (no edge = -1, edge w/o reward = 0)\n",
    "        '''\n",
    "        if np.any(matrix):\n",
    "            matrix[matrix == 100] = 0\n",
    "            matrix = matrix + 1\n",
    "            nx.draw_networkx(nx.from_numpy_array(matrix))\n",
    "        else:\n",
    "            nx.draw_networkx(self.graph)\n",
    "      \n",
    "    \n",
    "    def _actions(self, reward, state):\n",
    "        '''\n",
    "        Finds all possible actions for given state. (Helper function for the learn method)\n",
    "        \n",
    "        Parameters\n",
    "        ---\n",
    "        reward : array\n",
    "                graph matrix w/ edges and corresponding rewards/weights\n",
    "        \n",
    "        state : int\n",
    "                current state in graph/reward matrix\n",
    "        \n",
    "        Return\n",
    "        ---\n",
    "        (list) all possible actions\n",
    "        '''\n",
    "        return np.argwhere(reward[state] >= 0).ravel()\n",
    "    \n",
    "    \n",
    "    def _q_score(self, reward, state, action):\n",
    "        '''\n",
    "        Calculate the Q-score for the given (state, action) pair (Helper function for the learn method)\n",
    "            Q(state, action) = Reward(state, action) + gamma * max[Q(next_state, all actions)],\n",
    "            where next_state = current action\n",
    "            \n",
    "        Parameters\n",
    "        ---\n",
    "        reward : array\n",
    "                graph matrix w/ edges and corresponding rewards/weights\n",
    "        \n",
    "        state : int\n",
    "                current state in graph/reward matrix\n",
    "        \n",
    "        action : int\n",
    "                selected action, which will become next state\n",
    "        \n",
    "        Return\n",
    "        ---\n",
    "        (float) Q-score\n",
    "        '''\n",
    "        next_actions = self._actions(reward, action)\n",
    "        return reward[state, action] + self.gamma*max([self.q_matrix_[action, a] for a in next_actions])\n",
    "    \n",
    "    \n",
    "    def learn(self, reward, goal=None):\n",
    "        '''\n",
    "        Q-learning algorithm. Initializes Q-score matrix and updates during each iteration.\n",
    "        At end, standardizes q_matrix_ by the maximum score [0-100]\n",
    "        \n",
    "        Parameters\n",
    "        ---\n",
    "        reward : array\n",
    "                either pre-made reward matrix or randomly-generated one\n",
    "                \n",
    "        goal : int, (default = None)\n",
    "                terminal/goal node, corresponds to the `goal`-th column in reward\n",
    "                either user-given or simply assigned to the last node/column if not\n",
    "        '''\n",
    "        self.q_matrix_ = np.zeros(reward.shape)\n",
    "        self.goal_ = goal\n",
    "        \n",
    "        if not self.goal_:\n",
    "            self.goal_ = reward.shape[0] - 1\n",
    "        \n",
    "        for _ in range(self.epochs):\n",
    "\n",
    "            state = random.randint(0, self.goal_)\n",
    "            next_state = None\n",
    "\n",
    "            while next_state != self.goal_:\n",
    "\n",
    "                next_state = random.choice(self._actions(reward, state))\n",
    "                q = self._q_score(reward, state, next_state)\n",
    "                \n",
    "                if q > self.q_matrix_[state, next_state]:\n",
    "                    self.q_matrix_[state, next_state] = q\n",
    "                    \n",
    "                state = next_state\n",
    "                \n",
    "        self.q_matrix_ = self.q_matrix_ * (100 / np.amax(self.q_matrix_))\n",
    "        \n",
    "        \n",
    "    def predict_path(self, start_node=0):\n",
    "        '''\n",
    "        Find the optimal path after learning the graph.\n",
    "        Given a start node, use the Q-score-matrix to get to goal node. (Prints path)\n",
    "        \n",
    "        Parameters\n",
    "        ---\n",
    "        start_node : int, (default = 0)\n",
    "                starting point, can be any node within graph\n",
    "                \n",
    "        Return\n",
    "        ---\n",
    "        path : list\n",
    "                optimal path\n",
    "        '''\n",
    "        path = [start_node]\n",
    "        state = start_node\n",
    "        \n",
    "        while state != self.goal_:\n",
    "            options = np.argwhere(self.q_matrix_[state] == np.amax(self.q_matrix_[state])).ravel()\n",
    "            state = random.choice(options)\n",
    "            path.append(state)\n",
    "        \n",
    "        for i, node in enumerate(path):\n",
    "            print(node, end=' ')\n",
    "            if i < len(path)-1:\n",
    "                print('-->', end=' ')\n",
    "                \n",
    "        return path  "
   ]
  },
  {
   "cell_type": "markdown",
   "metadata": {},
   "source": [
    "### Example graph"
   ]
  },
  {
   "attachments": {
    "image.png": {
     "image/png": "[encoded data removed]"
    }
   },
   "cell_type": "markdown",
   "metadata": {},
   "source": [
    "![image.png](attachment:image.png)"
   ]
  },
  {
   "attachments": {
    "image.png": {
     "image/png": "[encoded data removed]"
    }
   },
   "cell_type": "markdown",
   "metadata": {},
   "source": [
    "![image.png](attachment:image.png)"
   ]
  },
  {
   "cell_type": "markdown",
   "metadata": {},
   "source": [
    "### Create example reward matrix\n",
    "* -1 = no edge\n",
    "* 0 = edge without reward\n",
    "* 100 = edge connected to goal node"
   ]
  },
  {
   "cell_type": "code",
   "execution_count": 3,
   "metadata": {},
   "outputs": [
    {
     "name": "stdout",
     "output_type": "stream",
     "text": [
      "[[ -1.  -1.  -1.  -1.   0.  -1.]\n",
      " [ -1.  -1.  -1.   0.  -1. 100.]\n",
      " [ -1.  -1.  -1.   0.  -1.  -1.]\n",
      " [ -1.   0.   0.  -1.   0.  -1.]\n",
      " [  0.  -1.  -1.   0.  -1. 100.]\n",
      " [ -1.   0.  -1.  -1.   0. 100.]]\n"
     ]
    }
   ],
   "source": [
    "reward = -np.ones([6,6])\n",
    "edges = [[0,4], [1,3], [2,3], [3,1], [3,2], [3,4], [4,0], [4,3], [5,1], [5,4]]\n",
    "hundreds = [1,4,5]\n",
    "\n",
    "for i, row in enumerate(reward):\n",
    "    for j, val in enumerate(row):\n",
    "        if [i,j] in edges:\n",
    "            reward[i,j] = 0\n",
    "        if j == 5 and i in hundreds:\n",
    "            reward[i,j] = 100\n",
    "            \n",
    "print(reward)"
   ]
  },
  {
   "cell_type": "markdown",
   "metadata": {},
   "source": [
    "### Learn the map/graph and find Q-matrix"
   ]
  },
  {
   "cell_type": "code",
   "execution_count": 4,
   "metadata": {},
   "outputs": [
    {
     "name": "stdout",
     "output_type": "stream",
     "text": [
      "[[  0.    0.    0.    0.   80.    0. ]\n",
      " [  0.    0.    0.   64.    0.  100. ]\n",
      " [  0.    0.    0.   64.    0.    0. ]\n",
      " [  0.   80.   51.2   0.   80.    0. ]\n",
      " [ 64.    0.    0.   64.    0.  100. ]\n",
      " [  0.   80.    0.    0.   80.  100. ]]\n"
     ]
    }
   ],
   "source": [
    "q = Q_learning()\n",
    "q.learn(reward)\n",
    "print(q.q_matrix_)"
   ]
  },
  {
   "attachments": {
    "image.png": {
     "image/png": "[encoded data removed]"
    }
   },
   "cell_type": "markdown",
   "metadata": {},
   "source": [
    "![image.png](attachment:image.png)"
   ]
  },
  {
   "cell_type": "markdown",
   "metadata": {},
   "source": [
    "### Optimal path starting at node 2"
   ]
  },
  {
   "cell_type": "code",
   "execution_count": 5,
   "metadata": {
    "scrolled": true
   },
   "outputs": [
    {
     "name": "stdout",
     "output_type": "stream",
     "text": [
      "2 --> 3 --> 4 --> 5 "
     ]
    }
   ],
   "source": [
    "path = q.predict_path(2)"
   ]
  },
  {
   "cell_type": "code",
   "execution_count": 6,
   "metadata": {},
   "outputs": [
    {
     "data": {
      "image/png": "[encoded data removed]",
      "text/plain": [
       "<matplotlib.figure.Figure at 0x1085fefd0>"
      ]
     },
     "metadata": {},
     "output_type": "display_data"
    }
   ],
   "source": [
    "q.print_graph(reward)"
   ]
  }
 ],
 "metadata": {
  "kernelspec": {
   "display_name": "Python 3",
   "language": "python",
   "name": "python3"
  },
  "language_info": {
   "codemirror_mode": {
    "name": "ipython",
    "version": 3
   },
   "file_extension": ".py",
   "mimetype": "text/x-python",
   "name": "python",
   "nbconvert_exporter": "python",
   "pygments_lexer": "ipython3",
   "version": "3.6.4"
  }
 },
 "nbformat": 4,
 "nbformat_minor": 2
}
